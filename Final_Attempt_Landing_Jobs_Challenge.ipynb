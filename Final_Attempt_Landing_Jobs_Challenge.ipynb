{
  "nbformat": 4,
  "nbformat_minor": 0,
  "metadata": {
    "colab": {
      "name": "Final_Attempt_Landing_Jobs_Challenge.ipynb",
      "provenance": [],
      "collapsed_sections": []
    },
    "kernelspec": {
      "name": "python3",
      "display_name": "Python 3"
    },
    "language_info": {
      "name": "python"
    }
  },
  "cells": [
    {
      "cell_type": "markdown",
      "metadata": {
        "id": "HtIAEi4oO0G-"
      },
      "source": [
        "The purpose of this Notebook is, from the Tech Careers Report 2021 of Landing Jobs, try to identify a group of professionals with a potential risk of career migration within the technological area, considering:\n",
        "\n",
        "1. Raw_Dataset's average age increased by 20 years.\n",
        "2. Attempted carreer migration via jobs site.\n",
        "3. The implicit risk in the analysis of the profile, for the potential candidate to do a Career Migration, through a Machine Learning Model.\n",
        "\n",
        "\n",
        "As a Case Study, let's assume that one Job Site take the Raw Data of Tech Careers Report 2021 and their Machine Learning Engineers built a Machine Learning Model  considering the features of the Raw Data as a ideal profile for hiring candidates.\n",
        "\n",
        "\n",
        "For this analysis, we will create a subset with the tech professionals. The average age of this subset will be increased by 20 years to have a dataset for professionals above this value (the average plus 20).\n",
        "\n",
        "\n",
        "A Machine Learning model could have bias and when identifying possible outliers within a dataset. We know that a ML model could avoid the outliers, consequently eliminating a candidate (tech professional) from the hiring process.\n",
        "\n",
        "\n",
        "It will be open for future debate, perhaps carried out by Landing Jobs, to determine what is the risk for a tech professional over 20 years above of the average age attempting a migration process, or relocation, within the technological area itself, through the Machine Learning models currently used for CV analysis, by the Jobs Sites.\n",
        "\n"
      ]
    },
    {
      "cell_type": "code",
      "metadata": {
        "id": "UIuWLVEPJtJh"
      },
      "source": [
        "#importing the libraries\n",
        "import pandas as pd\n",
        "import numpy as np\n",
        "import matplotlib.pyplot as plt\n",
        "import warnings\n",
        "import seaborn as sns"
      ],
      "execution_count": null,
      "outputs": []
    },
    {
      "cell_type": "code",
      "metadata": {
        "id": "0uknTTJaXf8Q"
      },
      "source": [
        "warnings.filterwarnings('ignore')"
      ],
      "execution_count": null,
      "outputs": []
    },
    {
      "cell_type": "code",
      "metadata": {
        "colab": {
          "base_uri": "https://localhost:8080/"
        },
        "id": "zQCTIGLTXrpP",
        "outputId": "63dc77d7-2734-45de-988a-eb7623cc31c8"
      },
      "source": [
        "#downloading the raw dataset from google drive\n",
        "from google.colab import drive\n",
        "drive.mount('/content/drive')"
      ],
      "execution_count": null,
      "outputs": [
        {
          "output_type": "stream",
          "text": [
            "Drive already mounted at /content/drive; to attempt to forcibly remount, call drive.mount(\"/content/drive\", force_remount=True).\n"
          ],
          "name": "stdout"
        }
      ]
    },
    {
      "cell_type": "markdown",
      "metadata": {
        "id": "O2SjaS9TY5G_"
      },
      "source": [
        "**LET'S TAKE A LOOK AND DOING SOME EXPLORATORY DATA ANALYSIS THROUGH VISUALIZATION AT RAW DATASET**"
      ]
    },
    {
      "cell_type": "code",
      "metadata": {
        "colab": {
          "base_uri": "https://localhost:8080/",
          "height": 437
        },
        "id": "HaYCkj3kYsBn",
        "outputId": "500d86d9-7dc6-4a79-b039-d01db84b1633"
      },
      "source": [
        "#reading the dataset\n",
        "raw = pd.read_excel('/content/Raw Data.xlsx')\n",
        "#raw.reset_index(inplace = True)\n",
        "raw.head()\n"
      ],
      "execution_count": null,
      "outputs": [
        {
          "output_type": "execute_result",
          "data": {
            "text/html": [
              "<div>\n",
              "<style scoped>\n",
              "    .dataframe tbody tr th:only-of-type {\n",
              "        vertical-align: middle;\n",
              "    }\n",
              "\n",
              "    .dataframe tbody tr th {\n",
              "        vertical-align: top;\n",
              "    }\n",
              "\n",
              "    .dataframe thead th {\n",
              "        text-align: right;\n",
              "    }\n",
              "</style>\n",
              "<table border=\"1\" class=\"dataframe\">\n",
              "  <thead>\n",
              "    <tr style=\"text-align: right;\">\n",
              "      <th></th>\n",
              "      <th>ID</th>\n",
              "      <th>Employment_Status</th>\n",
              "      <th>Employment_Status_Aggregated</th>\n",
              "      <th>Work_as_Contractor_12m</th>\n",
              "      <th>Work_as_Perm</th>\n",
              "      <th>Residence_Country</th>\n",
              "      <th>Residence_District</th>\n",
              "      <th>Residence_District_Aggregated</th>\n",
              "      <th>Work_Company_Country</th>\n",
              "      <th>Work_Company_Continent</th>\n",
              "      <th>Work_Company_PT_International</th>\n",
              "      <th>Work_Company_PT_District</th>\n",
              "      <th>Work_Company_PT_District_Aggregated</th>\n",
              "      <th>Remote_Working_Current</th>\n",
              "      <th>Remote_Working_Current_Flexible_Office_Days</th>\n",
              "      <th>Remote_Working_due_to_Covid</th>\n",
              "      <th>Job_Remote_or_Office</th>\n",
              "      <th>Remote_Work_Opinion</th>\n",
              "      <th>Job_Role_Original</th>\n",
              "      <th>Job_Role_Other</th>\n",
              "      <th>Job_Role</th>\n",
              "      <th>Employer_Industry</th>\n",
              "      <th>Employer_Industry_Other</th>\n",
              "      <th>Employer_Org_Type</th>\n",
              "      <th>Employer_Org_Type_Other</th>\n",
              "      <th>Employer_Size</th>\n",
              "      <th>Language_JavaScript</th>\n",
              "      <th>Language_Bash/Shell/PowerShell</th>\n",
              "      <th>Language_SQL</th>\n",
              "      <th>Language_Java</th>\n",
              "      <th>Language_C#</th>\n",
              "      <th>Language_Python</th>\n",
              "      <th>Language_PHP</th>\n",
              "      <th>Language_C++</th>\n",
              "      <th>Language_C</th>\n",
              "      <th>Language_TypeScript</th>\n",
              "      <th>Language_Ruby</th>\n",
              "      <th>Language_Swift</th>\n",
              "      <th>Language_Objective-C</th>\n",
              "      <th>Language_VB.NET</th>\n",
              "      <th>...</th>\n",
              "      <th>Perm_GAS_High_Limit</th>\n",
              "      <th>Avg_Salary</th>\n",
              "      <th>Salary_Change</th>\n",
              "      <th>Salary_Fairness</th>\n",
              "      <th>Changing_Jobs_next_6_months</th>\n",
              "      <th>Job_Motivator_Work_life_balance</th>\n",
              "      <th>Job_Motivator_Compensation_and_benefits</th>\n",
              "      <th>Job_Motivator_Training/Development_programs_at_work</th>\n",
              "      <th>Job_Motivator_Career_growth_opportunities</th>\n",
              "      <th>Job_Motivator_Remote_working</th>\n",
              "      <th>Job_Motivator_Flexible_schedule</th>\n",
              "      <th>Job_Motivator_Company_culture</th>\n",
              "      <th>Job_Motivator_The_technologies_I'm_working_with</th>\n",
              "      <th>Job_Motivator_Versatility/Variety_of_projects</th>\n",
              "      <th>Job_Motivator_Freedom_to_choose_the_clients_and/or_projects</th>\n",
              "      <th>Job_Motivator_Being_autonomous_at_work</th>\n",
              "      <th>Job_Motivator_How_widely_used_or_impactful_the_product/service_I_work_on_is</th>\n",
              "      <th>Job_Motivator_Environmentally_friendly/responsible_work_practice</th>\n",
              "      <th>Job_Perk_Meals_allowance/Company_provided_meals_or_snacks</th>\n",
              "      <th>Job_Perk_Transportation_benefit</th>\n",
              "      <th>Job_Perk_Health_benefits</th>\n",
              "      <th>Job_Perk_Fitness_or_wellness_benefit_(ex._gym_membership)</th>\n",
              "      <th>Job_Perk_Computer/_Office_equipment_allowance</th>\n",
              "      <th>Job_Perk_Professional_development_sponsorship</th>\n",
              "      <th>Job_Perk_Annual_bonus</th>\n",
              "      <th>Job_Perk_Long-term_leave</th>\n",
              "      <th>Job_Perk_Parental_leave</th>\n",
              "      <th>Job_Perk_Stock_options_or_shares</th>\n",
              "      <th>Job_Perk_Education_sponsorship</th>\n",
              "      <th>Job_Perk_Child_care</th>\n",
              "      <th>Citizenship</th>\n",
              "      <th>Birth_Year</th>\n",
              "      <th>Age</th>\n",
              "      <th>Gender</th>\n",
              "      <th>English_Level</th>\n",
              "      <th>Way_Into_Tech</th>\n",
              "      <th>Way_Into_Tech_Other</th>\n",
              "      <th>Education_Level</th>\n",
              "      <th>Working_Experience</th>\n",
              "      <th>Working_Experience_Aggregated</th>\n",
              "    </tr>\n",
              "  </thead>\n",
              "  <tbody>\n",
              "    <tr>\n",
              "      <th>0</th>\n",
              "      <td>1</td>\n",
              "      <td>Employed full-time</td>\n",
              "      <td>Permanent Employee</td>\n",
              "      <td>1.0</td>\n",
              "      <td>NaN</td>\n",
              "      <td>Portugal</td>\n",
              "      <td>Santarém</td>\n",
              "      <td>Centre</td>\n",
              "      <td>Portugal</td>\n",
              "      <td>Europe</td>\n",
              "      <td>Portugal</td>\n",
              "      <td>Lisboa</td>\n",
              "      <td>Lisbon Metropolitan Area</td>\n",
              "      <td>Yes, fully remote</td>\n",
              "      <td>NaN</td>\n",
              "      <td>Working remote because of Covid-19</td>\n",
              "      <td>Full Office Job</td>\n",
              "      <td>6.0</td>\n",
              "      <td>Technical Team Leader</td>\n",
              "      <td>NaN</td>\n",
              "      <td>Technical Team Leader</td>\n",
              "      <td>Financial and banking</td>\n",
              "      <td>NaN</td>\n",
              "      <td>Corporate</td>\n",
              "      <td>NaN</td>\n",
              "      <td>1000 - 4.999 employees</td>\n",
              "      <td>NaN</td>\n",
              "      <td>NaN</td>\n",
              "      <td>SQL</td>\n",
              "      <td>Java</td>\n",
              "      <td>NaN</td>\n",
              "      <td>NaN</td>\n",
              "      <td>NaN</td>\n",
              "      <td>NaN</td>\n",
              "      <td>NaN</td>\n",
              "      <td>NaN</td>\n",
              "      <td>NaN</td>\n",
              "      <td>NaN</td>\n",
              "      <td>NaN</td>\n",
              "      <td>NaN</td>\n",
              "      <td>...</td>\n",
              "      <td>35000.0</td>\n",
              "      <td>32500</td>\n",
              "      <td>Hasn't changed</td>\n",
              "      <td>4</td>\n",
              "      <td>4.0</td>\n",
              "      <td>6</td>\n",
              "      <td>7</td>\n",
              "      <td>6</td>\n",
              "      <td>7</td>\n",
              "      <td>7</td>\n",
              "      <td>7</td>\n",
              "      <td>4</td>\n",
              "      <td>4</td>\n",
              "      <td>5</td>\n",
              "      <td>1</td>\n",
              "      <td>4</td>\n",
              "      <td>5</td>\n",
              "      <td>5</td>\n",
              "      <td>1</td>\n",
              "      <td>7</td>\n",
              "      <td>7</td>\n",
              "      <td>3</td>\n",
              "      <td>7</td>\n",
              "      <td>4</td>\n",
              "      <td>5</td>\n",
              "      <td>4</td>\n",
              "      <td>6</td>\n",
              "      <td>2</td>\n",
              "      <td>7</td>\n",
              "      <td>7</td>\n",
              "      <td>Portuguese</td>\n",
              "      <td>1984.0</td>\n",
              "      <td>37.0</td>\n",
              "      <td>Male</td>\n",
              "      <td>Full professional proficiency</td>\n",
              "      <td>University</td>\n",
              "      <td>NaN</td>\n",
              "      <td>NaN</td>\n",
              "      <td>More than 9 years</td>\n",
              "      <td>6+ years</td>\n",
              "    </tr>\n",
              "    <tr>\n",
              "      <th>1</th>\n",
              "      <td>2</td>\n",
              "      <td>Employed full-time</td>\n",
              "      <td>Permanent Employee</td>\n",
              "      <td>0.0</td>\n",
              "      <td>NaN</td>\n",
              "      <td>Portugal</td>\n",
              "      <td>Coimbra</td>\n",
              "      <td>Centre</td>\n",
              "      <td>Portugal</td>\n",
              "      <td>Europe</td>\n",
              "      <td>Portugal</td>\n",
              "      <td>Coimbra</td>\n",
              "      <td>Centre</td>\n",
              "      <td>Yes, fully remote</td>\n",
              "      <td>NaN</td>\n",
              "      <td>Working remote because of Covid-19</td>\n",
              "      <td>Full Office Job</td>\n",
              "      <td>7.0</td>\n",
              "      <td>Full-Stack Developer</td>\n",
              "      <td>NaN</td>\n",
              "      <td>Full-Stack Developer</td>\n",
              "      <td>Software development - other</td>\n",
              "      <td>NaN</td>\n",
              "      <td>SME - Small or Medium Enterprise (personnel &lt;250)</td>\n",
              "      <td>NaN</td>\n",
              "      <td>Less than 10 employees</td>\n",
              "      <td>JavaScript</td>\n",
              "      <td>NaN</td>\n",
              "      <td>SQL</td>\n",
              "      <td>NaN</td>\n",
              "      <td>NaN</td>\n",
              "      <td>NaN</td>\n",
              "      <td>PHP</td>\n",
              "      <td>NaN</td>\n",
              "      <td>NaN</td>\n",
              "      <td>NaN</td>\n",
              "      <td>NaN</td>\n",
              "      <td>NaN</td>\n",
              "      <td>NaN</td>\n",
              "      <td>NaN</td>\n",
              "      <td>...</td>\n",
              "      <td>15000.0</td>\n",
              "      <td>12500</td>\n",
              "      <td>Hasn't changed</td>\n",
              "      <td>4</td>\n",
              "      <td>3.0</td>\n",
              "      <td>5</td>\n",
              "      <td>6</td>\n",
              "      <td>5</td>\n",
              "      <td>6</td>\n",
              "      <td>7</td>\n",
              "      <td>7</td>\n",
              "      <td>6</td>\n",
              "      <td>6</td>\n",
              "      <td>6</td>\n",
              "      <td>4</td>\n",
              "      <td>5</td>\n",
              "      <td>3</td>\n",
              "      <td>4</td>\n",
              "      <td>4</td>\n",
              "      <td>4</td>\n",
              "      <td>6</td>\n",
              "      <td>4</td>\n",
              "      <td>7</td>\n",
              "      <td>6</td>\n",
              "      <td>6</td>\n",
              "      <td>5</td>\n",
              "      <td>6</td>\n",
              "      <td>3</td>\n",
              "      <td>6</td>\n",
              "      <td>5</td>\n",
              "      <td>Portuguese</td>\n",
              "      <td>1976.0</td>\n",
              "      <td>45.0</td>\n",
              "      <td>Male</td>\n",
              "      <td>Full professional proficiency</td>\n",
              "      <td>Self-taught</td>\n",
              "      <td>NaN</td>\n",
              "      <td>NaN</td>\n",
              "      <td>More than 9 years</td>\n",
              "      <td>6+ years</td>\n",
              "    </tr>\n",
              "    <tr>\n",
              "      <th>2</th>\n",
              "      <td>3</td>\n",
              "      <td>Working as a Contractor/Freelancer</td>\n",
              "      <td>Contractor</td>\n",
              "      <td>NaN</td>\n",
              "      <td>1.0</td>\n",
              "      <td>Portugal</td>\n",
              "      <td>Porto</td>\n",
              "      <td>Porto Metropolitan Area</td>\n",
              "      <td>No specific country</td>\n",
              "      <td>NaN</td>\n",
              "      <td>International</td>\n",
              "      <td>NaN</td>\n",
              "      <td>NaN</td>\n",
              "      <td>Yes, fully remote</td>\n",
              "      <td>NaN</td>\n",
              "      <td>Working remote because of Covid-19</td>\n",
              "      <td>Full Office Job</td>\n",
              "      <td>4.0</td>\n",
              "      <td>Full-Stack Developer</td>\n",
              "      <td>NaN</td>\n",
              "      <td>Full-Stack Developer</td>\n",
              "      <td>Web development or design</td>\n",
              "      <td>NaN</td>\n",
              "      <td>Startup (new business venture)</td>\n",
              "      <td>NaN</td>\n",
              "      <td>Less than 10 employees</td>\n",
              "      <td>JavaScript</td>\n",
              "      <td>NaN</td>\n",
              "      <td>SQL</td>\n",
              "      <td>Java</td>\n",
              "      <td>NaN</td>\n",
              "      <td>NaN</td>\n",
              "      <td>PHP</td>\n",
              "      <td>C++</td>\n",
              "      <td>NaN</td>\n",
              "      <td>NaN</td>\n",
              "      <td>NaN</td>\n",
              "      <td>Swift</td>\n",
              "      <td>NaN</td>\n",
              "      <td>NaN</td>\n",
              "      <td>...</td>\n",
              "      <td>NaN</td>\n",
              "      <td>16000</td>\n",
              "      <td>Decreased more than 15%</td>\n",
              "      <td>3</td>\n",
              "      <td>5.0</td>\n",
              "      <td>6</td>\n",
              "      <td>5</td>\n",
              "      <td>5</td>\n",
              "      <td>6</td>\n",
              "      <td>4</td>\n",
              "      <td>4</td>\n",
              "      <td>5</td>\n",
              "      <td>5</td>\n",
              "      <td>6</td>\n",
              "      <td>5</td>\n",
              "      <td>5</td>\n",
              "      <td>6</td>\n",
              "      <td>7</td>\n",
              "      <td>3</td>\n",
              "      <td>5</td>\n",
              "      <td>6</td>\n",
              "      <td>4</td>\n",
              "      <td>6</td>\n",
              "      <td>6</td>\n",
              "      <td>6</td>\n",
              "      <td>6</td>\n",
              "      <td>4</td>\n",
              "      <td>5</td>\n",
              "      <td>5</td>\n",
              "      <td>3</td>\n",
              "      <td>Portuguese</td>\n",
              "      <td>1986.0</td>\n",
              "      <td>35.0</td>\n",
              "      <td>Male</td>\n",
              "      <td>Full professional proficiency</td>\n",
              "      <td>University</td>\n",
              "      <td>NaN</td>\n",
              "      <td>Bachelor degree</td>\n",
              "      <td>Between 1 - 3 years</td>\n",
              "      <td>0 - 3 years</td>\n",
              "    </tr>\n",
              "    <tr>\n",
              "      <th>3</th>\n",
              "      <td>4</td>\n",
              "      <td>Employed full-time</td>\n",
              "      <td>Permanent Employee</td>\n",
              "      <td>1.0</td>\n",
              "      <td>NaN</td>\n",
              "      <td>Portugal</td>\n",
              "      <td>Açores</td>\n",
              "      <td>Azores and Madeira</td>\n",
              "      <td>Portugal</td>\n",
              "      <td>Europe</td>\n",
              "      <td>Portugal</td>\n",
              "      <td>Açores</td>\n",
              "      <td>Azores and Madeira</td>\n",
              "      <td>Yes, fully remote</td>\n",
              "      <td>NaN</td>\n",
              "      <td>Working remote because of Covid-19</td>\n",
              "      <td>Full Office Job</td>\n",
              "      <td>5.0</td>\n",
              "      <td>Product Owner/Product Manager</td>\n",
              "      <td>NaN</td>\n",
              "      <td>Product Owner/Product Manager</td>\n",
              "      <td>Web development or design</td>\n",
              "      <td>NaN</td>\n",
              "      <td>SME - Small or Medium Enterprise (personnel &lt;250)</td>\n",
              "      <td>NaN</td>\n",
              "      <td>100 - 499 employees</td>\n",
              "      <td>JavaScript</td>\n",
              "      <td>NaN</td>\n",
              "      <td>NaN</td>\n",
              "      <td>NaN</td>\n",
              "      <td>NaN</td>\n",
              "      <td>NaN</td>\n",
              "      <td>NaN</td>\n",
              "      <td>C++</td>\n",
              "      <td>NaN</td>\n",
              "      <td>TypeScript</td>\n",
              "      <td>NaN</td>\n",
              "      <td>NaN</td>\n",
              "      <td>NaN</td>\n",
              "      <td>NaN</td>\n",
              "      <td>...</td>\n",
              "      <td>20000.0</td>\n",
              "      <td>17500</td>\n",
              "      <td>]0%, 5%]</td>\n",
              "      <td>4</td>\n",
              "      <td>3.0</td>\n",
              "      <td>6</td>\n",
              "      <td>6</td>\n",
              "      <td>7</td>\n",
              "      <td>6</td>\n",
              "      <td>7</td>\n",
              "      <td>7</td>\n",
              "      <td>6</td>\n",
              "      <td>7</td>\n",
              "      <td>5</td>\n",
              "      <td>2</td>\n",
              "      <td>4</td>\n",
              "      <td>3</td>\n",
              "      <td>6</td>\n",
              "      <td>3</td>\n",
              "      <td>3</td>\n",
              "      <td>6</td>\n",
              "      <td>6</td>\n",
              "      <td>6</td>\n",
              "      <td>6</td>\n",
              "      <td>7</td>\n",
              "      <td>5</td>\n",
              "      <td>7</td>\n",
              "      <td>2</td>\n",
              "      <td>5</td>\n",
              "      <td>6</td>\n",
              "      <td>Portuguese</td>\n",
              "      <td>1975.0</td>\n",
              "      <td>46.0</td>\n",
              "      <td>Male</td>\n",
              "      <td>Full professional proficiency</td>\n",
              "      <td>University</td>\n",
              "      <td>NaN</td>\n",
              "      <td>Bachelor degree</td>\n",
              "      <td>More than 9 years</td>\n",
              "      <td>6+ years</td>\n",
              "    </tr>\n",
              "    <tr>\n",
              "      <th>4</th>\n",
              "      <td>5</td>\n",
              "      <td>Employed full-time</td>\n",
              "      <td>Permanent Employee</td>\n",
              "      <td>0.0</td>\n",
              "      <td>NaN</td>\n",
              "      <td>Portugal</td>\n",
              "      <td>Braga</td>\n",
              "      <td>North</td>\n",
              "      <td>Portugal</td>\n",
              "      <td>Europe</td>\n",
              "      <td>Portugal</td>\n",
              "      <td>Braga</td>\n",
              "      <td>North</td>\n",
              "      <td>Yes, fully remote</td>\n",
              "      <td>NaN</td>\n",
              "      <td>My job is remote (full or flexible) by definition</td>\n",
              "      <td>Remote Job (full or flexible)</td>\n",
              "      <td>5.0</td>\n",
              "      <td>Back-End Developer</td>\n",
              "      <td>NaN</td>\n",
              "      <td>Back-End Developer</td>\n",
              "      <td>Software development - other</td>\n",
              "      <td>NaN</td>\n",
              "      <td>SME - Small or Medium Enterprise (personnel &lt;250)</td>\n",
              "      <td>NaN</td>\n",
              "      <td>10 - 19 employees</td>\n",
              "      <td>JavaScript</td>\n",
              "      <td>NaN</td>\n",
              "      <td>SQL</td>\n",
              "      <td>Java</td>\n",
              "      <td>C#</td>\n",
              "      <td>NaN</td>\n",
              "      <td>NaN</td>\n",
              "      <td>C++</td>\n",
              "      <td>NaN</td>\n",
              "      <td>TypeScript</td>\n",
              "      <td>NaN</td>\n",
              "      <td>NaN</td>\n",
              "      <td>NaN</td>\n",
              "      <td>VB.NET</td>\n",
              "      <td>...</td>\n",
              "      <td>20000.0</td>\n",
              "      <td>17500</td>\n",
              "      <td>Increased more than 15%</td>\n",
              "      <td>5</td>\n",
              "      <td>2.0</td>\n",
              "      <td>7</td>\n",
              "      <td>7</td>\n",
              "      <td>7</td>\n",
              "      <td>4</td>\n",
              "      <td>5</td>\n",
              "      <td>5</td>\n",
              "      <td>4</td>\n",
              "      <td>7</td>\n",
              "      <td>5</td>\n",
              "      <td>7</td>\n",
              "      <td>7</td>\n",
              "      <td>4</td>\n",
              "      <td>7</td>\n",
              "      <td>5</td>\n",
              "      <td>7</td>\n",
              "      <td>6</td>\n",
              "      <td>6</td>\n",
              "      <td>7</td>\n",
              "      <td>5</td>\n",
              "      <td>7</td>\n",
              "      <td>5</td>\n",
              "      <td>7</td>\n",
              "      <td>6</td>\n",
              "      <td>4</td>\n",
              "      <td>4</td>\n",
              "      <td>Portuguese</td>\n",
              "      <td>1989.0</td>\n",
              "      <td>32.0</td>\n",
              "      <td>Male</td>\n",
              "      <td>Professional working proficiency</td>\n",
              "      <td>University</td>\n",
              "      <td>NaN</td>\n",
              "      <td>Bachelor degree</td>\n",
              "      <td>Between 6 - 9 years</td>\n",
              "      <td>6+ years</td>\n",
              "    </tr>\n",
              "  </tbody>\n",
              "</table>\n",
              "<p>5 rows × 126 columns</p>\n",
              "</div>"
            ],
            "text/plain": [
              "   ID  ... Working_Experience_Aggregated\n",
              "0   1  ...                      6+ years\n",
              "1   2  ...                      6+ years\n",
              "2   3  ...                   0 - 3 years\n",
              "3   4  ...                      6+ years\n",
              "4   5  ...                      6+ years\n",
              "\n",
              "[5 rows x 126 columns]"
            ]
          },
          "metadata": {
            "tags": []
          },
          "execution_count": 214
        }
      ]
    },
    {
      "cell_type": "code",
      "metadata": {
        "colab": {
          "base_uri": "https://localhost:8080/"
        },
        "id": "MJugTL_VY1EG",
        "outputId": "3dc8facf-7750-4e97-a664-9230c04196a2"
      },
      "source": [
        "raw.info()"
      ],
      "execution_count": null,
      "outputs": [
        {
          "output_type": "stream",
          "text": [
            "<class 'pandas.core.frame.DataFrame'>\n",
            "RangeIndex: 3371 entries, 0 to 3370\n",
            "Columns: 126 entries, ID to Working_Experience_Aggregated\n",
            "dtypes: float64(14), int64(28), object(84)\n",
            "memory usage: 3.2+ MB\n"
          ],
          "name": "stdout"
        }
      ]
    },
    {
      "cell_type": "code",
      "metadata": {
        "colab": {
          "base_uri": "https://localhost:8080/"
        },
        "id": "kgHY3LxV2yta",
        "outputId": "ed1bf489-afe0-47db-d420-75d095d92947"
      },
      "source": [
        "raw.isnull().sum()"
      ],
      "execution_count": null,
      "outputs": [
        {
          "output_type": "execute_result",
          "data": {
            "text/plain": [
              "ID                                  0\n",
              "Employment_Status                   0\n",
              "Employment_Status_Aggregated        0\n",
              "Work_as_Contractor_12m            205\n",
              "Work_as_Perm                     3166\n",
              "                                 ... \n",
              "Way_Into_Tech                      75\n",
              "Way_Into_Tech_Other              3297\n",
              "Education_Level                     2\n",
              "Working_Experience                  0\n",
              "Working_Experience_Aggregated       0\n",
              "Length: 126, dtype: int64"
            ]
          },
          "metadata": {
            "tags": []
          },
          "execution_count": 215
        }
      ]
    },
    {
      "cell_type": "code",
      "metadata": {
        "colab": {
          "base_uri": "https://localhost:8080/"
        },
        "id": "VUlWDFGikfy_",
        "outputId": "4d27b504-cd99-49f1-d86b-8fded7783b41"
      },
      "source": [
        "raw['Age'].isnull().sum()"
      ],
      "execution_count": null,
      "outputs": [
        {
          "output_type": "execute_result",
          "data": {
            "text/plain": [
              "6"
            ]
          },
          "metadata": {
            "tags": []
          },
          "execution_count": 216
        }
      ]
    },
    {
      "cell_type": "code",
      "metadata": {
        "colab": {
          "base_uri": "https://localhost:8080/"
        },
        "id": "NHZQnWITaFW9",
        "outputId": "93a7bd28-59c2-4cb1-ecda-1193ba9ac707"
      },
      "source": [
        "raw.shape"
      ],
      "execution_count": null,
      "outputs": [
        {
          "output_type": "execute_result",
          "data": {
            "text/plain": [
              "(3371, 126)"
            ]
          },
          "metadata": {
            "tags": []
          },
          "execution_count": 217
        }
      ]
    },
    {
      "cell_type": "markdown",
      "metadata": {
        "id": "6SqaX2E3aXd0"
      },
      "source": [
        "Before building some graphs to get visualization of the dataset, let´s use ‘groupy()’ functionality to splits the data into differents groups in order to have specific information from the data."
      ]
    },
    {
      "cell_type": "code",
      "metadata": {
        "colab": {
          "base_uri": "https://localhost:8080/"
        },
        "id": "ckx08J9caH6q",
        "outputId": "41ceccd8-daea-47de-9abb-5f9a4787a69f"
      },
      "source": [
        "#Let's check the mean age by gender\n",
        "round(raw.groupby(by='Gender')['Age'].mean(), 0)"
      ],
      "execution_count": null,
      "outputs": [
        {
          "output_type": "execute_result",
          "data": {
            "text/plain": [
              "Gender\n",
              "Female                 33.0\n",
              "I prefer not to say    33.0\n",
              "Male                   34.0\n",
              "Name: Age, dtype: float64"
            ]
          },
          "metadata": {
            "tags": []
          },
          "execution_count": 218
        }
      ]
    },
    {
      "cell_type": "code",
      "metadata": {
        "colab": {
          "base_uri": "https://localhost:8080/"
        },
        "id": "jGjO1owGI2sU",
        "outputId": "c6b5cc05-994f-4cb4-d4ad-5569852f3686"
      },
      "source": [
        "#Let's see a split of Gender\n",
        "raw.groupby(by='Gender').size()"
      ],
      "execution_count": null,
      "outputs": [
        {
          "output_type": "execute_result",
          "data": {
            "text/plain": [
              "Gender\n",
              "Female                  422\n",
              "I prefer not to say      50\n",
              "Male                   2899\n",
              "dtype: int64"
            ]
          },
          "metadata": {
            "tags": []
          },
          "execution_count": 219
        }
      ]
    },
    {
      "cell_type": "code",
      "metadata": {
        "colab": {
          "base_uri": "https://localhost:8080/"
        },
        "id": "nOmo-9RgaTNN",
        "outputId": "16d01cef-5632-4724-f3e7-e3938034ab87"
      },
      "source": [
        "#Just to verify the mean age for each Residence District\n",
        "round(raw.groupby(by='Residence_District')['Age'].mean(), 0)"
      ],
      "execution_count": null,
      "outputs": [
        {
          "output_type": "execute_result",
          "data": {
            "text/plain": [
              "Residence_District\n",
              "Aveiro              31.0\n",
              "Açores              37.0\n",
              "Beja                32.0\n",
              "Braga               33.0\n",
              "Bragança            28.0\n",
              "Castelo Branco      32.0\n",
              "Coimbra             33.0\n",
              "Faro                34.0\n",
              "Guarda              35.0\n",
              "Leiria              34.0\n",
              "Lisboa              35.0\n",
              "Madeira             33.0\n",
              "Other               30.0\n",
              "Portalegre          30.0\n",
              "Porto               33.0\n",
              "Santarém            35.0\n",
              "Setúbal             36.0\n",
              "Viana do Castelo    32.0\n",
              "Vila Real           32.0\n",
              "Viseu               32.0\n",
              "Évora               32.0\n",
              "Name: Age, dtype: float64"
            ]
          },
          "metadata": {
            "tags": []
          },
          "execution_count": 220
        }
      ]
    },
    {
      "cell_type": "code",
      "metadata": {
        "colab": {
          "base_uri": "https://localhost:8080/"
        },
        "id": "qu3MdkA7akJR",
        "outputId": "9a97614c-bbeb-4823-f219-7518b829ee8f"
      },
      "source": [
        "#Getting the information about Gender by Residence District\n",
        "raw.groupby(by='Residence_District')['Gender'].value_counts()"
      ],
      "execution_count": null,
      "outputs": [
        {
          "output_type": "execute_result",
          "data": {
            "text/plain": [
              "Residence_District  Gender             \n",
              "Aveiro              Male                    77\n",
              "                    Female                  14\n",
              "                    I prefer not to say      3\n",
              "Açores              Male                    37\n",
              "                    Female                   3\n",
              "Beja                Male                    10\n",
              "Braga               Male                   243\n",
              "                    Female                  19\n",
              "                    I prefer not to say      3\n",
              "Bragança            Male                    21\n",
              "                    Female                   3\n",
              "Castelo Branco      Male                    87\n",
              "                    Female                   5\n",
              "                    I prefer not to say      1\n",
              "Coimbra             Male                   181\n",
              "                    Female                  16\n",
              "                    I prefer not to say      3\n",
              "Faro                Male                   105\n",
              "                    Female                  11\n",
              "                    I prefer not to say      2\n",
              "Guarda              Male                    13\n",
              "                    Female                   1\n",
              "Leiria              Male                   111\n",
              "                    Female                   9\n",
              "Lisboa              Male                   963\n",
              "                    Female                 191\n",
              "                    I prefer not to say     20\n",
              "Madeira             Male                    95\n",
              "                    Female                   8\n",
              "Other               Male                     3\n",
              "Portalegre          Male                    14\n",
              "Porto               Male                   635\n",
              "                    Female                  88\n",
              "                    I prefer not to say     10\n",
              "Santarém            Male                    35\n",
              "                    Female                   3\n",
              "Setúbal             Male                   146\n",
              "                    Female                  35\n",
              "                    I prefer not to say      5\n",
              "Viana do Castelo    Male                    32\n",
              "                    Female                   2\n",
              "Vila Real           Male                    12\n",
              "                    Female                   3\n",
              "                    I prefer not to say      1\n",
              "Viseu               Male                    45\n",
              "                    Female                   9\n",
              "                    I prefer not to say      1\n",
              "Évora               Male                    34\n",
              "                    Female                   2\n",
              "                    I prefer not to say      1\n",
              "Name: Gender, dtype: int64"
            ]
          },
          "metadata": {
            "tags": []
          },
          "execution_count": 169
        }
      ]
    },
    {
      "cell_type": "code",
      "metadata": {
        "colab": {
          "base_uri": "https://localhost:8080/"
        },
        "id": "3CYZWAQ-IM0t",
        "outputId": "27a07251-4540-4e1f-9c8a-9ecaa884f1bb"
      },
      "source": [
        "#We can also take a look at the tech average salary in Aveiro and Evora, for instance\n",
        "raw.groupby(by='Residence_District')['Avg_Salary'].value_counts()"
      ],
      "execution_count": null,
      "outputs": [
        {
          "output_type": "execute_result",
          "data": {
            "text/plain": [
              "Residence_District  Avg_Salary\n",
              "Aveiro              27500         18\n",
              "                    12500         14\n",
              "                    22500         14\n",
              "                    17500         11\n",
              "                    32500          9\n",
              "                                  ..\n",
              "Évora               32500          1\n",
              "                    57500          1\n",
              "                    67500          1\n",
              "                    72500          1\n",
              "                    102500         1\n",
              "Name: Avg_Salary, Length: 352, dtype: int64"
            ]
          },
          "metadata": {
            "tags": []
          },
          "execution_count": 170
        }
      ]
    },
    {
      "cell_type": "markdown",
      "metadata": {
        "id": "nBiybGTZi5Ck"
      },
      "source": [
        "**Data Raw Visualization**"
      ]
    },
    {
      "cell_type": "code",
      "metadata": {
        "colab": {
          "base_uri": "https://localhost:8080/",
          "height": 499
        },
        "id": "ihaCsfOOIrtm",
        "outputId": "1748b258-cc38-4911-bdd3-8beb08740a43"
      },
      "source": [
        "#Plotting a Histogram with ages of Raw dataset\n",
        "fig, ax = plt.subplots()\n",
        "\n",
        "raw['Age'].hist(bins = 20, figsize = (12,8))\n",
        "ax.set_title(\"Age's Histogram\")\n",
        "plt.show()"
      ],
      "execution_count": null,
      "outputs": [
        {
          "output_type": "display_data",
          "data": {
            "image/png": "[encoded data removed]",
            "text/plain": [
              "<Figure size 864x576 with 1 Axes>"
            ]
          },
          "metadata": {
            "tags": [],
            "needs_background": "light"
          }
        }
      ]
    },
    {
      "cell_type": "code",
      "metadata": {
        "colab": {
          "base_uri": "https://localhost:8080/",
          "height": 369
        },
        "id": "pNl8kMWtj64V",
        "outputId": "c498fe6a-d6fd-4d00-c732-98d80ae09abd"
      },
      "source": [
        "sns.displot(raw, x = 'Age', kde = True)\n",
        "plt.show()"
      ],
      "execution_count": null,
      "outputs": [
        {
          "output_type": "display_data",
          "data": {
            "image/png": "[encoded data removed]",
            "text/plain": [
              "<Figure size 360x360 with 1 Axes>"
            ]
          },
          "metadata": {
            "tags": [],
            "needs_background": "light"
          }
        }
      ]
    },
    {
      "cell_type": "code",
      "metadata": {
        "colab": {
          "base_uri": "https://localhost:8080/",
          "height": 467
        },
        "id": "3XSCV8W1jpS1",
        "outputId": "05818d32-4637-4be2-e9de-05a124354dc8"
      },
      "source": [
        "##Plotting a visual analysis of ages and salaries\n",
        "plt.figure(figsize = (24, 10))\n",
        "\n",
        "sns.boxplot(x='Age', y = 'Avg_Salary', data= raw)\n",
        "\n",
        "plt.title(\"Analysis of Ages and Salaries\");\n",
        "plt.xticks(rotation=20)\n",
        "plt.show()"
      ],
      "execution_count": null,
      "outputs": [
        {
          "output_type": "display_data",
          "data": {
            "image/png": "[encoded data removed]",
            "text/plain": [
              "<Figure size 1728x720 with 1 Axes>"
            ]
          },
          "metadata": {
            "tags": [],
            "needs_background": "light"
          }
        }
      ]
    },
    {
      "cell_type": "markdown",
      "metadata": {
        "id": "3JH3de05kYTE"
      },
      "source": [
        "After this small Exploratory Data Analysis and Visualization, let's create a subset just to take a look a specific information.\n",
        "\n",
        "\n",
        "As we told before, the average age of this subset will be increased by 20 years. For that it is necessary to create one column with this information.\n",
        "\n",
        " "
      ]
    },
    {
      "cell_type": "code",
      "metadata": {
        "colab": {
          "base_uri": "https://localhost:8080/"
        },
        "id": "rTfcCLXomHn2",
        "outputId": "40103c08-77ad-4b3c-f9fe-8b1fd9a13c7c"
      },
      "source": [
        "# building the column \n",
        "new_age_avg = round(raw['Age'].mean() + 20, 0)\n",
        "new_age_avg"
      ],
      "execution_count": null,
      "outputs": [
        {
          "output_type": "execute_result",
          "data": {
            "text/plain": [
              "54.0"
            ]
          },
          "metadata": {
            "tags": []
          },
          "execution_count": 221
        }
      ]
    },
    {
      "cell_type": "code",
      "metadata": {
        "colab": {
          "base_uri": "https://localhost:8080/",
          "height": 437
        },
        "id": "Wrwsl_Vjm_hb",
        "outputId": "a92525b2-3e8a-440a-def6-7b30b6f205c9"
      },
      "source": [
        "#Inserting a new column called 'Cutting Age' in the dataset\n",
        "raw.insert(loc=1, column='Cutting_Age', value=new_age_avg)\n",
        "raw.head()"
      ],
      "execution_count": null,
      "outputs": [
        {
          "output_type": "execute_result",
          "data": {
            "text/html": [
              "<div>\n",
              "<style scoped>\n",
              "    .dataframe tbody tr th:only-of-type {\n",
              "        vertical-align: middle;\n",
              "    }\n",
              "\n",
              "    .dataframe tbody tr th {\n",
              "        vertical-align: top;\n",
              "    }\n",
              "\n",
              "    .dataframe thead th {\n",
              "        text-align: right;\n",
              "    }\n",
              "</style>\n",
              "<table border=\"1\" class=\"dataframe\">\n",
              "  <thead>\n",
              "    <tr style=\"text-align: right;\">\n",
              "      <th></th>\n",
              "      <th>ID</th>\n",
              "      <th>Cutting_Age</th>\n",
              "      <th>Employment_Status</th>\n",
              "      <th>Employment_Status_Aggregated</th>\n",
              "      <th>Work_as_Contractor_12m</th>\n",
              "      <th>Work_as_Perm</th>\n",
              "      <th>Residence_Country</th>\n",
              "      <th>Residence_District</th>\n",
              "      <th>Residence_District_Aggregated</th>\n",
              "      <th>Work_Company_Country</th>\n",
              "      <th>Work_Company_Continent</th>\n",
              "      <th>Work_Company_PT_International</th>\n",
              "      <th>Work_Company_PT_District</th>\n",
              "      <th>Work_Company_PT_District_Aggregated</th>\n",
              "      <th>Remote_Working_Current</th>\n",
              "      <th>Remote_Working_Current_Flexible_Office_Days</th>\n",
              "      <th>Remote_Working_due_to_Covid</th>\n",
              "      <th>Job_Remote_or_Office</th>\n",
              "      <th>Remote_Work_Opinion</th>\n",
              "      <th>Job_Role_Original</th>\n",
              "      <th>Job_Role_Other</th>\n",
              "      <th>Job_Role</th>\n",
              "      <th>Employer_Industry</th>\n",
              "      <th>Employer_Industry_Other</th>\n",
              "      <th>Employer_Org_Type</th>\n",
              "      <th>Employer_Org_Type_Other</th>\n",
              "      <th>Employer_Size</th>\n",
              "      <th>Language_JavaScript</th>\n",
              "      <th>Language_Bash/Shell/PowerShell</th>\n",
              "      <th>Language_SQL</th>\n",
              "      <th>Language_Java</th>\n",
              "      <th>Language_C#</th>\n",
              "      <th>Language_Python</th>\n",
              "      <th>Language_PHP</th>\n",
              "      <th>Language_C++</th>\n",
              "      <th>Language_C</th>\n",
              "      <th>Language_TypeScript</th>\n",
              "      <th>Language_Ruby</th>\n",
              "      <th>Language_Swift</th>\n",
              "      <th>Language_Objective-C</th>\n",
              "      <th>...</th>\n",
              "      <th>Perm_GAS_High_Limit</th>\n",
              "      <th>Avg_Salary</th>\n",
              "      <th>Salary_Change</th>\n",
              "      <th>Salary_Fairness</th>\n",
              "      <th>Changing_Jobs_next_6_months</th>\n",
              "      <th>Job_Motivator_Work_life_balance</th>\n",
              "      <th>Job_Motivator_Compensation_and_benefits</th>\n",
              "      <th>Job_Motivator_Training/Development_programs_at_work</th>\n",
              "      <th>Job_Motivator_Career_growth_opportunities</th>\n",
              "      <th>Job_Motivator_Remote_working</th>\n",
              "      <th>Job_Motivator_Flexible_schedule</th>\n",
              "      <th>Job_Motivator_Company_culture</th>\n",
              "      <th>Job_Motivator_The_technologies_I'm_working_with</th>\n",
              "      <th>Job_Motivator_Versatility/Variety_of_projects</th>\n",
              "      <th>Job_Motivator_Freedom_to_choose_the_clients_and/or_projects</th>\n",
              "      <th>Job_Motivator_Being_autonomous_at_work</th>\n",
              "      <th>Job_Motivator_How_widely_used_or_impactful_the_product/service_I_work_on_is</th>\n",
              "      <th>Job_Motivator_Environmentally_friendly/responsible_work_practice</th>\n",
              "      <th>Job_Perk_Meals_allowance/Company_provided_meals_or_snacks</th>\n",
              "      <th>Job_Perk_Transportation_benefit</th>\n",
              "      <th>Job_Perk_Health_benefits</th>\n",
              "      <th>Job_Perk_Fitness_or_wellness_benefit_(ex._gym_membership)</th>\n",
              "      <th>Job_Perk_Computer/_Office_equipment_allowance</th>\n",
              "      <th>Job_Perk_Professional_development_sponsorship</th>\n",
              "      <th>Job_Perk_Annual_bonus</th>\n",
              "      <th>Job_Perk_Long-term_leave</th>\n",
              "      <th>Job_Perk_Parental_leave</th>\n",
              "      <th>Job_Perk_Stock_options_or_shares</th>\n",
              "      <th>Job_Perk_Education_sponsorship</th>\n",
              "      <th>Job_Perk_Child_care</th>\n",
              "      <th>Citizenship</th>\n",
              "      <th>Birth_Year</th>\n",
              "      <th>Age</th>\n",
              "      <th>Gender</th>\n",
              "      <th>English_Level</th>\n",
              "      <th>Way_Into_Tech</th>\n",
              "      <th>Way_Into_Tech_Other</th>\n",
              "      <th>Education_Level</th>\n",
              "      <th>Working_Experience</th>\n",
              "      <th>Working_Experience_Aggregated</th>\n",
              "    </tr>\n",
              "  </thead>\n",
              "  <tbody>\n",
              "    <tr>\n",
              "      <th>0</th>\n",
              "      <td>1</td>\n",
              "      <td>54.0</td>\n",
              "      <td>Employed full-time</td>\n",
              "      <td>Permanent Employee</td>\n",
              "      <td>1.0</td>\n",
              "      <td>NaN</td>\n",
              "      <td>Portugal</td>\n",
              "      <td>Santarém</td>\n",
              "      <td>Centre</td>\n",
              "      <td>Portugal</td>\n",
              "      <td>Europe</td>\n",
              "      <td>Portugal</td>\n",
              "      <td>Lisboa</td>\n",
              "      <td>Lisbon Metropolitan Area</td>\n",
              "      <td>Yes, fully remote</td>\n",
              "      <td>NaN</td>\n",
              "      <td>Working remote because of Covid-19</td>\n",
              "      <td>Full Office Job</td>\n",
              "      <td>6.0</td>\n",
              "      <td>Technical Team Leader</td>\n",
              "      <td>NaN</td>\n",
              "      <td>Technical Team Leader</td>\n",
              "      <td>Financial and banking</td>\n",
              "      <td>NaN</td>\n",
              "      <td>Corporate</td>\n",
              "      <td>NaN</td>\n",
              "      <td>1000 - 4.999 employees</td>\n",
              "      <td>NaN</td>\n",
              "      <td>NaN</td>\n",
              "      <td>SQL</td>\n",
              "      <td>Java</td>\n",
              "      <td>NaN</td>\n",
              "      <td>NaN</td>\n",
              "      <td>NaN</td>\n",
              "      <td>NaN</td>\n",
              "      <td>NaN</td>\n",
              "      <td>NaN</td>\n",
              "      <td>NaN</td>\n",
              "      <td>NaN</td>\n",
              "      <td>NaN</td>\n",
              "      <td>...</td>\n",
              "      <td>35000.0</td>\n",
              "      <td>32500</td>\n",
              "      <td>Hasn't changed</td>\n",
              "      <td>4</td>\n",
              "      <td>4.0</td>\n",
              "      <td>6</td>\n",
              "      <td>7</td>\n",
              "      <td>6</td>\n",
              "      <td>7</td>\n",
              "      <td>7</td>\n",
              "      <td>7</td>\n",
              "      <td>4</td>\n",
              "      <td>4</td>\n",
              "      <td>5</td>\n",
              "      <td>1</td>\n",
              "      <td>4</td>\n",
              "      <td>5</td>\n",
              "      <td>5</td>\n",
              "      <td>1</td>\n",
              "      <td>7</td>\n",
              "      <td>7</td>\n",
              "      <td>3</td>\n",
              "      <td>7</td>\n",
              "      <td>4</td>\n",
              "      <td>5</td>\n",
              "      <td>4</td>\n",
              "      <td>6</td>\n",
              "      <td>2</td>\n",
              "      <td>7</td>\n",
              "      <td>7</td>\n",
              "      <td>Portuguese</td>\n",
              "      <td>1984.0</td>\n",
              "      <td>37.0</td>\n",
              "      <td>Male</td>\n",
              "      <td>Full professional proficiency</td>\n",
              "      <td>University</td>\n",
              "      <td>NaN</td>\n",
              "      <td>NaN</td>\n",
              "      <td>More than 9 years</td>\n",
              "      <td>6+ years</td>\n",
              "    </tr>\n",
              "    <tr>\n",
              "      <th>1</th>\n",
              "      <td>2</td>\n",
              "      <td>54.0</td>\n",
              "      <td>Employed full-time</td>\n",
              "      <td>Permanent Employee</td>\n",
              "      <td>0.0</td>\n",
              "      <td>NaN</td>\n",
              "      <td>Portugal</td>\n",
              "      <td>Coimbra</td>\n",
              "      <td>Centre</td>\n",
              "      <td>Portugal</td>\n",
              "      <td>Europe</td>\n",
              "      <td>Portugal</td>\n",
              "      <td>Coimbra</td>\n",
              "      <td>Centre</td>\n",
              "      <td>Yes, fully remote</td>\n",
              "      <td>NaN</td>\n",
              "      <td>Working remote because of Covid-19</td>\n",
              "      <td>Full Office Job</td>\n",
              "      <td>7.0</td>\n",
              "      <td>Full-Stack Developer</td>\n",
              "      <td>NaN</td>\n",
              "      <td>Full-Stack Developer</td>\n",
              "      <td>Software development - other</td>\n",
              "      <td>NaN</td>\n",
              "      <td>SME - Small or Medium Enterprise (personnel &lt;250)</td>\n",
              "      <td>NaN</td>\n",
              "      <td>Less than 10 employees</td>\n",
              "      <td>JavaScript</td>\n",
              "      <td>NaN</td>\n",
              "      <td>SQL</td>\n",
              "      <td>NaN</td>\n",
              "      <td>NaN</td>\n",
              "      <td>NaN</td>\n",
              "      <td>PHP</td>\n",
              "      <td>NaN</td>\n",
              "      <td>NaN</td>\n",
              "      <td>NaN</td>\n",
              "      <td>NaN</td>\n",
              "      <td>NaN</td>\n",
              "      <td>NaN</td>\n",
              "      <td>...</td>\n",
              "      <td>15000.0</td>\n",
              "      <td>12500</td>\n",
              "      <td>Hasn't changed</td>\n",
              "      <td>4</td>\n",
              "      <td>3.0</td>\n",
              "      <td>5</td>\n",
              "      <td>6</td>\n",
              "      <td>5</td>\n",
              "      <td>6</td>\n",
              "      <td>7</td>\n",
              "      <td>7</td>\n",
              "      <td>6</td>\n",
              "      <td>6</td>\n",
              "      <td>6</td>\n",
              "      <td>4</td>\n",
              "      <td>5</td>\n",
              "      <td>3</td>\n",
              "      <td>4</td>\n",
              "      <td>4</td>\n",
              "      <td>4</td>\n",
              "      <td>6</td>\n",
              "      <td>4</td>\n",
              "      <td>7</td>\n",
              "      <td>6</td>\n",
              "      <td>6</td>\n",
              "      <td>5</td>\n",
              "      <td>6</td>\n",
              "      <td>3</td>\n",
              "      <td>6</td>\n",
              "      <td>5</td>\n",
              "      <td>Portuguese</td>\n",
              "      <td>1976.0</td>\n",
              "      <td>45.0</td>\n",
              "      <td>Male</td>\n",
              "      <td>Full professional proficiency</td>\n",
              "      <td>Self-taught</td>\n",
              "      <td>NaN</td>\n",
              "      <td>NaN</td>\n",
              "      <td>More than 9 years</td>\n",
              "      <td>6+ years</td>\n",
              "    </tr>\n",
              "    <tr>\n",
              "      <th>2</th>\n",
              "      <td>3</td>\n",
              "      <td>54.0</td>\n",
              "      <td>Working as a Contractor/Freelancer</td>\n",
              "      <td>Contractor</td>\n",
              "      <td>NaN</td>\n",
              "      <td>1.0</td>\n",
              "      <td>Portugal</td>\n",
              "      <td>Porto</td>\n",
              "      <td>Porto Metropolitan Area</td>\n",
              "      <td>No specific country</td>\n",
              "      <td>NaN</td>\n",
              "      <td>International</td>\n",
              "      <td>NaN</td>\n",
              "      <td>NaN</td>\n",
              "      <td>Yes, fully remote</td>\n",
              "      <td>NaN</td>\n",
              "      <td>Working remote because of Covid-19</td>\n",
              "      <td>Full Office Job</td>\n",
              "      <td>4.0</td>\n",
              "      <td>Full-Stack Developer</td>\n",
              "      <td>NaN</td>\n",
              "      <td>Full-Stack Developer</td>\n",
              "      <td>Web development or design</td>\n",
              "      <td>NaN</td>\n",
              "      <td>Startup (new business venture)</td>\n",
              "      <td>NaN</td>\n",
              "      <td>Less than 10 employees</td>\n",
              "      <td>JavaScript</td>\n",
              "      <td>NaN</td>\n",
              "      <td>SQL</td>\n",
              "      <td>Java</td>\n",
              "      <td>NaN</td>\n",
              "      <td>NaN</td>\n",
              "      <td>PHP</td>\n",
              "      <td>C++</td>\n",
              "      <td>NaN</td>\n",
              "      <td>NaN</td>\n",
              "      <td>NaN</td>\n",
              "      <td>Swift</td>\n",
              "      <td>NaN</td>\n",
              "      <td>...</td>\n",
              "      <td>NaN</td>\n",
              "      <td>16000</td>\n",
              "      <td>Decreased more than 15%</td>\n",
              "      <td>3</td>\n",
              "      <td>5.0</td>\n",
              "      <td>6</td>\n",
              "      <td>5</td>\n",
              "      <td>5</td>\n",
              "      <td>6</td>\n",
              "      <td>4</td>\n",
              "      <td>4</td>\n",
              "      <td>5</td>\n",
              "      <td>5</td>\n",
              "      <td>6</td>\n",
              "      <td>5</td>\n",
              "      <td>5</td>\n",
              "      <td>6</td>\n",
              "      <td>7</td>\n",
              "      <td>3</td>\n",
              "      <td>5</td>\n",
              "      <td>6</td>\n",
              "      <td>4</td>\n",
              "      <td>6</td>\n",
              "      <td>6</td>\n",
              "      <td>6</td>\n",
              "      <td>6</td>\n",
              "      <td>4</td>\n",
              "      <td>5</td>\n",
              "      <td>5</td>\n",
              "      <td>3</td>\n",
              "      <td>Portuguese</td>\n",
              "      <td>1986.0</td>\n",
              "      <td>35.0</td>\n",
              "      <td>Male</td>\n",
              "      <td>Full professional proficiency</td>\n",
              "      <td>University</td>\n",
              "      <td>NaN</td>\n",
              "      <td>Bachelor degree</td>\n",
              "      <td>Between 1 - 3 years</td>\n",
              "      <td>0 - 3 years</td>\n",
              "    </tr>\n",
              "    <tr>\n",
              "      <th>3</th>\n",
              "      <td>4</td>\n",
              "      <td>54.0</td>\n",
              "      <td>Employed full-time</td>\n",
              "      <td>Permanent Employee</td>\n",
              "      <td>1.0</td>\n",
              "      <td>NaN</td>\n",
              "      <td>Portugal</td>\n",
              "      <td>Açores</td>\n",
              "      <td>Azores and Madeira</td>\n",
              "      <td>Portugal</td>\n",
              "      <td>Europe</td>\n",
              "      <td>Portugal</td>\n",
              "      <td>Açores</td>\n",
              "      <td>Azores and Madeira</td>\n",
              "      <td>Yes, fully remote</td>\n",
              "      <td>NaN</td>\n",
              "      <td>Working remote because of Covid-19</td>\n",
              "      <td>Full Office Job</td>\n",
              "      <td>5.0</td>\n",
              "      <td>Product Owner/Product Manager</td>\n",
              "      <td>NaN</td>\n",
              "      <td>Product Owner/Product Manager</td>\n",
              "      <td>Web development or design</td>\n",
              "      <td>NaN</td>\n",
              "      <td>SME - Small or Medium Enterprise (personnel &lt;250)</td>\n",
              "      <td>NaN</td>\n",
              "      <td>100 - 499 employees</td>\n",
              "      <td>JavaScript</td>\n",
              "      <td>NaN</td>\n",
              "      <td>NaN</td>\n",
              "      <td>NaN</td>\n",
              "      <td>NaN</td>\n",
              "      <td>NaN</td>\n",
              "      <td>NaN</td>\n",
              "      <td>C++</td>\n",
              "      <td>NaN</td>\n",
              "      <td>TypeScript</td>\n",
              "      <td>NaN</td>\n",
              "      <td>NaN</td>\n",
              "      <td>NaN</td>\n",
              "      <td>...</td>\n",
              "      <td>20000.0</td>\n",
              "      <td>17500</td>\n",
              "      <td>]0%, 5%]</td>\n",
              "      <td>4</td>\n",
              "      <td>3.0</td>\n",
              "      <td>6</td>\n",
              "      <td>6</td>\n",
              "      <td>7</td>\n",
              "      <td>6</td>\n",
              "      <td>7</td>\n",
              "      <td>7</td>\n",
              "      <td>6</td>\n",
              "      <td>7</td>\n",
              "      <td>5</td>\n",
              "      <td>2</td>\n",
              "      <td>4</td>\n",
              "      <td>3</td>\n",
              "      <td>6</td>\n",
              "      <td>3</td>\n",
              "      <td>3</td>\n",
              "      <td>6</td>\n",
              "      <td>6</td>\n",
              "      <td>6</td>\n",
              "      <td>6</td>\n",
              "      <td>7</td>\n",
              "      <td>5</td>\n",
              "      <td>7</td>\n",
              "      <td>2</td>\n",
              "      <td>5</td>\n",
              "      <td>6</td>\n",
              "      <td>Portuguese</td>\n",
              "      <td>1975.0</td>\n",
              "      <td>46.0</td>\n",
              "      <td>Male</td>\n",
              "      <td>Full professional proficiency</td>\n",
              "      <td>University</td>\n",
              "      <td>NaN</td>\n",
              "      <td>Bachelor degree</td>\n",
              "      <td>More than 9 years</td>\n",
              "      <td>6+ years</td>\n",
              "    </tr>\n",
              "    <tr>\n",
              "      <th>4</th>\n",
              "      <td>5</td>\n",
              "      <td>54.0</td>\n",
              "      <td>Employed full-time</td>\n",
              "      <td>Permanent Employee</td>\n",
              "      <td>0.0</td>\n",
              "      <td>NaN</td>\n",
              "      <td>Portugal</td>\n",
              "      <td>Braga</td>\n",
              "      <td>North</td>\n",
              "      <td>Portugal</td>\n",
              "      <td>Europe</td>\n",
              "      <td>Portugal</td>\n",
              "      <td>Braga</td>\n",
              "      <td>North</td>\n",
              "      <td>Yes, fully remote</td>\n",
              "      <td>NaN</td>\n",
              "      <td>My job is remote (full or flexible) by definition</td>\n",
              "      <td>Remote Job (full or flexible)</td>\n",
              "      <td>5.0</td>\n",
              "      <td>Back-End Developer</td>\n",
              "      <td>NaN</td>\n",
              "      <td>Back-End Developer</td>\n",
              "      <td>Software development - other</td>\n",
              "      <td>NaN</td>\n",
              "      <td>SME - Small or Medium Enterprise (personnel &lt;250)</td>\n",
              "      <td>NaN</td>\n",
              "      <td>10 - 19 employees</td>\n",
              "      <td>JavaScript</td>\n",
              "      <td>NaN</td>\n",
              "      <td>SQL</td>\n",
              "      <td>Java</td>\n",
              "      <td>C#</td>\n",
              "      <td>NaN</td>\n",
              "      <td>NaN</td>\n",
              "      <td>C++</td>\n",
              "      <td>NaN</td>\n",
              "      <td>TypeScript</td>\n",
              "      <td>NaN</td>\n",
              "      <td>NaN</td>\n",
              "      <td>NaN</td>\n",
              "      <td>...</td>\n",
              "      <td>20000.0</td>\n",
              "      <td>17500</td>\n",
              "      <td>Increased more than 15%</td>\n",
              "      <td>5</td>\n",
              "      <td>2.0</td>\n",
              "      <td>7</td>\n",
              "      <td>7</td>\n",
              "      <td>7</td>\n",
              "      <td>4</td>\n",
              "      <td>5</td>\n",
              "      <td>5</td>\n",
              "      <td>4</td>\n",
              "      <td>7</td>\n",
              "      <td>5</td>\n",
              "      <td>7</td>\n",
              "      <td>7</td>\n",
              "      <td>4</td>\n",
              "      <td>7</td>\n",
              "      <td>5</td>\n",
              "      <td>7</td>\n",
              "      <td>6</td>\n",
              "      <td>6</td>\n",
              "      <td>7</td>\n",
              "      <td>5</td>\n",
              "      <td>7</td>\n",
              "      <td>5</td>\n",
              "      <td>7</td>\n",
              "      <td>6</td>\n",
              "      <td>4</td>\n",
              "      <td>4</td>\n",
              "      <td>Portuguese</td>\n",
              "      <td>1989.0</td>\n",
              "      <td>32.0</td>\n",
              "      <td>Male</td>\n",
              "      <td>Professional working proficiency</td>\n",
              "      <td>University</td>\n",
              "      <td>NaN</td>\n",
              "      <td>Bachelor degree</td>\n",
              "      <td>Between 6 - 9 years</td>\n",
              "      <td>6+ years</td>\n",
              "    </tr>\n",
              "  </tbody>\n",
              "</table>\n",
              "<p>5 rows × 127 columns</p>\n",
              "</div>"
            ],
            "text/plain": [
              "   ID  Cutting_Age  ...   Working_Experience Working_Experience_Aggregated\n",
              "0   1         54.0  ...    More than 9 years                      6+ years\n",
              "1   2         54.0  ...    More than 9 years                      6+ years\n",
              "2   3         54.0  ...  Between 1 - 3 years                   0 - 3 years\n",
              "3   4         54.0  ...    More than 9 years                      6+ years\n",
              "4   5         54.0  ...  Between 6 - 9 years                      6+ years\n",
              "\n",
              "[5 rows x 127 columns]"
            ]
          },
          "metadata": {
            "tags": []
          },
          "execution_count": 222
        }
      ]
    },
    {
      "cell_type": "code",
      "metadata": {
        "colab": {
          "base_uri": "https://localhost:8080/"
        },
        "id": "o6ConbXGn8Lq",
        "outputId": "27a45753-a381-4882-dc2a-50272f33581b"
      },
      "source": [
        "#let's check if the new column was built correctly\n",
        "raw.groupby(by='Job_Role')['Cutting_Age'].value_counts()"
      ],
      "execution_count": null,
      "outputs": [
        {
          "output_type": "execute_result",
          "data": {
            "text/plain": [
              "Job_Role                            Cutting_Age\n",
              "Back-End Developer                  54.0           511\n",
              "Business Applications (BI/CRM/ERP)  54.0            85\n",
              "CTO                                 54.0           105\n",
              "Computer & Network Security         54.0            25\n",
              "Data Scientist/Data Engineer        54.0           160\n",
              "DevOps Engineer                     54.0            82\n",
              "Front-End Developer                 54.0           299\n",
              "Full-Stack Developer                54.0           846\n",
              "Maintenance & Support               54.0            63\n",
              "Mobile Apps Developer               54.0           126\n",
              "Product Owner/Product Manager       54.0           147\n",
              "Project Manager                     54.0           236\n",
              "Quality Assurance/Testing           54.0            79\n",
              "Scrum Master                        54.0            43\n",
              "Solutions Architect                 54.0            94\n",
              "SysAdmin Engineer                   54.0            34\n",
              "Technical Team Leader               54.0           316\n",
              "UX/UI Designer                      54.0           120\n",
              "Name: Cutting_Age, dtype: int64"
            ]
          },
          "metadata": {
            "tags": []
          },
          "execution_count": 223
        }
      ]
    },
    {
      "cell_type": "code",
      "metadata": {
        "colab": {
          "base_uri": "https://localhost:8080/"
        },
        "id": "VMKzttcok97Z",
        "outputId": "b60ead10-03bc-40b0-bb6c-61db0c915290"
      },
      "source": [
        "raw['Age'].isnull().sum()"
      ],
      "execution_count": null,
      "outputs": [
        {
          "output_type": "execute_result",
          "data": {
            "text/plain": [
              "6"
            ]
          },
          "metadata": {
            "tags": []
          },
          "execution_count": 225
        }
      ]
    },
    {
      "cell_type": "code",
      "metadata": {
        "id": "_tQfIDtH0XWH"
      },
      "source": [
        "#Once there are some null value at 'Age' column, let's use the average age to solve this.\n",
        "raw.loc[(raw['Age'].isnull() == True), 'Age'] = raw['Age'].mean()"
      ],
      "execution_count": null,
      "outputs": []
    },
    {
      "cell_type": "code",
      "metadata": {
        "colab": {
          "base_uri": "https://localhost:8080/",
          "height": 407
        },
        "id": "iqOK0C1-lhEg",
        "outputId": "10d10e15-ab30-48f4-816c-78d7d66725d6"
      },
      "source": [
        "#Creating the subset \n",
        "raw_a = raw[['Age','Avg_Salary', 'Gender','Cutting_Age', 'Job_Role','Working_Experience']]\n",
        "raw_a"
      ],
      "execution_count": null,
      "outputs": [
        {
          "output_type": "execute_result",
          "data": {
            "text/html": [
              "<div>\n",
              "<style scoped>\n",
              "    .dataframe tbody tr th:only-of-type {\n",
              "        vertical-align: middle;\n",
              "    }\n",
              "\n",
              "    .dataframe tbody tr th {\n",
              "        vertical-align: top;\n",
              "    }\n",
              "\n",
              "    .dataframe thead th {\n",
              "        text-align: right;\n",
              "    }\n",
              "</style>\n",
              "<table border=\"1\" class=\"dataframe\">\n",
              "  <thead>\n",
              "    <tr style=\"text-align: right;\">\n",
              "      <th></th>\n",
              "      <th>Age</th>\n",
              "      <th>Avg_Salary</th>\n",
              "      <th>Gender</th>\n",
              "      <th>Cutting_Age</th>\n",
              "      <th>Job_Role</th>\n",
              "      <th>Working_Experience</th>\n",
              "    </tr>\n",
              "  </thead>\n",
              "  <tbody>\n",
              "    <tr>\n",
              "      <th>0</th>\n",
              "      <td>37.0</td>\n",
              "      <td>32500</td>\n",
              "      <td>Male</td>\n",
              "      <td>54.0</td>\n",
              "      <td>Technical Team Leader</td>\n",
              "      <td>More than 9 years</td>\n",
              "    </tr>\n",
              "    <tr>\n",
              "      <th>1</th>\n",
              "      <td>45.0</td>\n",
              "      <td>12500</td>\n",
              "      <td>Male</td>\n",
              "      <td>54.0</td>\n",
              "      <td>Full-Stack Developer</td>\n",
              "      <td>More than 9 years</td>\n",
              "    </tr>\n",
              "    <tr>\n",
              "      <th>2</th>\n",
              "      <td>35.0</td>\n",
              "      <td>16000</td>\n",
              "      <td>Male</td>\n",
              "      <td>54.0</td>\n",
              "      <td>Full-Stack Developer</td>\n",
              "      <td>Between 1 - 3 years</td>\n",
              "    </tr>\n",
              "    <tr>\n",
              "      <th>3</th>\n",
              "      <td>46.0</td>\n",
              "      <td>17500</td>\n",
              "      <td>Male</td>\n",
              "      <td>54.0</td>\n",
              "      <td>Product Owner/Product Manager</td>\n",
              "      <td>More than 9 years</td>\n",
              "    </tr>\n",
              "    <tr>\n",
              "      <th>4</th>\n",
              "      <td>32.0</td>\n",
              "      <td>17500</td>\n",
              "      <td>Male</td>\n",
              "      <td>54.0</td>\n",
              "      <td>Back-End Developer</td>\n",
              "      <td>Between 6 - 9 years</td>\n",
              "    </tr>\n",
              "    <tr>\n",
              "      <th>...</th>\n",
              "      <td>...</td>\n",
              "      <td>...</td>\n",
              "      <td>...</td>\n",
              "      <td>...</td>\n",
              "      <td>...</td>\n",
              "      <td>...</td>\n",
              "    </tr>\n",
              "    <tr>\n",
              "      <th>3366</th>\n",
              "      <td>29.0</td>\n",
              "      <td>17500</td>\n",
              "      <td>Male</td>\n",
              "      <td>54.0</td>\n",
              "      <td>Full-Stack Developer</td>\n",
              "      <td>Between 3 - 6 years</td>\n",
              "    </tr>\n",
              "    <tr>\n",
              "      <th>3367</th>\n",
              "      <td>33.0</td>\n",
              "      <td>27500</td>\n",
              "      <td>Male</td>\n",
              "      <td>54.0</td>\n",
              "      <td>Quality Assurance/Testing</td>\n",
              "      <td>Between 3 - 6 years</td>\n",
              "    </tr>\n",
              "    <tr>\n",
              "      <th>3368</th>\n",
              "      <td>39.0</td>\n",
              "      <td>32500</td>\n",
              "      <td>Male</td>\n",
              "      <td>54.0</td>\n",
              "      <td>Front-End Developer</td>\n",
              "      <td>Between 6 - 9 years</td>\n",
              "    </tr>\n",
              "    <tr>\n",
              "      <th>3369</th>\n",
              "      <td>33.0</td>\n",
              "      <td>22500</td>\n",
              "      <td>Male</td>\n",
              "      <td>54.0</td>\n",
              "      <td>Front-End Developer</td>\n",
              "      <td>Between 3 - 6 years</td>\n",
              "    </tr>\n",
              "    <tr>\n",
              "      <th>3370</th>\n",
              "      <td>41.0</td>\n",
              "      <td>43200</td>\n",
              "      <td>Male</td>\n",
              "      <td>54.0</td>\n",
              "      <td>Data Scientist/Data Engineer</td>\n",
              "      <td>More than 9 years</td>\n",
              "    </tr>\n",
              "  </tbody>\n",
              "</table>\n",
              "<p>3371 rows × 6 columns</p>\n",
              "</div>"
            ],
            "text/plain": [
              "       Age  Avg_Salary  ...                       Job_Role   Working_Experience\n",
              "0     37.0       32500  ...          Technical Team Leader    More than 9 years\n",
              "1     45.0       12500  ...           Full-Stack Developer    More than 9 years\n",
              "2     35.0       16000  ...           Full-Stack Developer  Between 1 - 3 years\n",
              "3     46.0       17500  ...  Product Owner/Product Manager    More than 9 years\n",
              "4     32.0       17500  ...             Back-End Developer  Between 6 - 9 years\n",
              "...    ...         ...  ...                            ...                  ...\n",
              "3366  29.0       17500  ...           Full-Stack Developer  Between 3 - 6 years\n",
              "3367  33.0       27500  ...      Quality Assurance/Testing  Between 3 - 6 years\n",
              "3368  39.0       32500  ...            Front-End Developer  Between 6 - 9 years\n",
              "3369  33.0       22500  ...            Front-End Developer  Between 3 - 6 years\n",
              "3370  41.0       43200  ...   Data Scientist/Data Engineer    More than 9 years\n",
              "\n",
              "[3371 rows x 6 columns]"
            ]
          },
          "metadata": {
            "tags": []
          },
          "execution_count": 227
        }
      ]
    },
    {
      "cell_type": "code",
      "metadata": {
        "colab": {
          "base_uri": "https://localhost:8080/",
          "height": 138
        },
        "id": "8fWa-Wo-ciss",
        "outputId": "53154b71-f6ea-4651-ed0e-9c2122fde57c"
      },
      "source": [
        "round(raw_a.describe().T, 0)"
      ],
      "execution_count": null,
      "outputs": [
        {
          "output_type": "execute_result",
          "data": {
            "text/html": [
              "<div>\n",
              "<style scoped>\n",
              "    .dataframe tbody tr th:only-of-type {\n",
              "        vertical-align: middle;\n",
              "    }\n",
              "\n",
              "    .dataframe tbody tr th {\n",
              "        vertical-align: top;\n",
              "    }\n",
              "\n",
              "    .dataframe thead th {\n",
              "        text-align: right;\n",
              "    }\n",
              "</style>\n",
              "<table border=\"1\" class=\"dataframe\">\n",
              "  <thead>\n",
              "    <tr style=\"text-align: right;\">\n",
              "      <th></th>\n",
              "      <th>count</th>\n",
              "      <th>mean</th>\n",
              "      <th>std</th>\n",
              "      <th>min</th>\n",
              "      <th>25%</th>\n",
              "      <th>50%</th>\n",
              "      <th>75%</th>\n",
              "      <th>max</th>\n",
              "    </tr>\n",
              "  </thead>\n",
              "  <tbody>\n",
              "    <tr>\n",
              "      <th>Age</th>\n",
              "      <td>3371.0</td>\n",
              "      <td>34.0</td>\n",
              "      <td>7.0</td>\n",
              "      <td>19.0</td>\n",
              "      <td>28.0</td>\n",
              "      <td>33.0</td>\n",
              "      <td>38.0</td>\n",
              "      <td>67.0</td>\n",
              "    </tr>\n",
              "    <tr>\n",
              "      <th>Avg_Salary</th>\n",
              "      <td>3371.0</td>\n",
              "      <td>32559.0</td>\n",
              "      <td>19175.0</td>\n",
              "      <td>0.0</td>\n",
              "      <td>17500.0</td>\n",
              "      <td>27500.0</td>\n",
              "      <td>42500.0</td>\n",
              "      <td>153600.0</td>\n",
              "    </tr>\n",
              "    <tr>\n",
              "      <th>Cutting_Age</th>\n",
              "      <td>3371.0</td>\n",
              "      <td>54.0</td>\n",
              "      <td>0.0</td>\n",
              "      <td>54.0</td>\n",
              "      <td>54.0</td>\n",
              "      <td>54.0</td>\n",
              "      <td>54.0</td>\n",
              "      <td>54.0</td>\n",
              "    </tr>\n",
              "  </tbody>\n",
              "</table>\n",
              "</div>"
            ],
            "text/plain": [
              "              count     mean      std  ...      50%      75%       max\n",
              "Age          3371.0     34.0      7.0  ...     33.0     38.0      67.0\n",
              "Avg_Salary   3371.0  32559.0  19175.0  ...  27500.0  42500.0  153600.0\n",
              "Cutting_Age  3371.0     54.0      0.0  ...     54.0     54.0      54.0\n",
              "\n",
              "[3 rows x 8 columns]"
            ]
          },
          "metadata": {
            "tags": []
          },
          "execution_count": 228
        }
      ]
    },
    {
      "cell_type": "markdown",
      "metadata": {
        "id": "HV7WynbOCvZz"
      },
      "source": [
        "Now it is necessary to create a specific dataset with professional which ages are above 54 years old"
      ]
    },
    {
      "cell_type": "code",
      "metadata": {
        "colab": {
          "base_uri": "https://localhost:8080/",
          "height": 348
        },
        "id": "VJgHPzxUCmxC",
        "outputId": "f67d9cff-d7dd-46fd-eb58-ecdea0ae4753"
      },
      "source": [
        "raw_b = raw_a.query('Age >= 54')\n",
        "raw_b.sample(10)"
      ],
      "execution_count": null,
      "outputs": [
        {
          "output_type": "execute_result",
          "data": {
            "text/html": [
              "<div>\n",
              "<style scoped>\n",
              "    .dataframe tbody tr th:only-of-type {\n",
              "        vertical-align: middle;\n",
              "    }\n",
              "\n",
              "    .dataframe tbody tr th {\n",
              "        vertical-align: top;\n",
              "    }\n",
              "\n",
              "    .dataframe thead th {\n",
              "        text-align: right;\n",
              "    }\n",
              "</style>\n",
              "<table border=\"1\" class=\"dataframe\">\n",
              "  <thead>\n",
              "    <tr style=\"text-align: right;\">\n",
              "      <th></th>\n",
              "      <th>Age</th>\n",
              "      <th>Avg_Salary</th>\n",
              "      <th>Gender</th>\n",
              "      <th>Cutting_Age</th>\n",
              "      <th>Job_Role</th>\n",
              "      <th>Working_Experience</th>\n",
              "    </tr>\n",
              "  </thead>\n",
              "  <tbody>\n",
              "    <tr>\n",
              "      <th>3306</th>\n",
              "      <td>54.0</td>\n",
              "      <td>27500</td>\n",
              "      <td>Male</td>\n",
              "      <td>54.0</td>\n",
              "      <td>Maintenance &amp; Support</td>\n",
              "      <td>More than 9 years</td>\n",
              "    </tr>\n",
              "    <tr>\n",
              "      <th>2840</th>\n",
              "      <td>55.0</td>\n",
              "      <td>102500</td>\n",
              "      <td>Male</td>\n",
              "      <td>54.0</td>\n",
              "      <td>Product Owner/Product Manager</td>\n",
              "      <td>More than 9 years</td>\n",
              "    </tr>\n",
              "    <tr>\n",
              "      <th>2093</th>\n",
              "      <td>56.0</td>\n",
              "      <td>47500</td>\n",
              "      <td>Male</td>\n",
              "      <td>54.0</td>\n",
              "      <td>Project Manager</td>\n",
              "      <td>Between 6 - 9 years</td>\n",
              "    </tr>\n",
              "    <tr>\n",
              "      <th>2580</th>\n",
              "      <td>57.0</td>\n",
              "      <td>52500</td>\n",
              "      <td>Male</td>\n",
              "      <td>54.0</td>\n",
              "      <td>Project Manager</td>\n",
              "      <td>More than 9 years</td>\n",
              "    </tr>\n",
              "    <tr>\n",
              "      <th>2015</th>\n",
              "      <td>56.0</td>\n",
              "      <td>82500</td>\n",
              "      <td>Male</td>\n",
              "      <td>54.0</td>\n",
              "      <td>CTO</td>\n",
              "      <td>More than 9 years</td>\n",
              "    </tr>\n",
              "    <tr>\n",
              "      <th>1768</th>\n",
              "      <td>56.0</td>\n",
              "      <td>27500</td>\n",
              "      <td>Male</td>\n",
              "      <td>54.0</td>\n",
              "      <td>Product Owner/Product Manager</td>\n",
              "      <td>More than 9 years</td>\n",
              "    </tr>\n",
              "    <tr>\n",
              "      <th>3348</th>\n",
              "      <td>54.0</td>\n",
              "      <td>92500</td>\n",
              "      <td>Male</td>\n",
              "      <td>54.0</td>\n",
              "      <td>Technical Team Leader</td>\n",
              "      <td>More than 9 years</td>\n",
              "    </tr>\n",
              "    <tr>\n",
              "      <th>1081</th>\n",
              "      <td>56.0</td>\n",
              "      <td>77500</td>\n",
              "      <td>Male</td>\n",
              "      <td>54.0</td>\n",
              "      <td>CTO</td>\n",
              "      <td>More than 9 years</td>\n",
              "    </tr>\n",
              "    <tr>\n",
              "      <th>3129</th>\n",
              "      <td>67.0</td>\n",
              "      <td>17500</td>\n",
              "      <td>Male</td>\n",
              "      <td>54.0</td>\n",
              "      <td>Full-Stack Developer</td>\n",
              "      <td>Between 1 - 3 years</td>\n",
              "    </tr>\n",
              "    <tr>\n",
              "      <th>2444</th>\n",
              "      <td>56.0</td>\n",
              "      <td>27500</td>\n",
              "      <td>Male</td>\n",
              "      <td>54.0</td>\n",
              "      <td>Project Manager</td>\n",
              "      <td>More than 9 years</td>\n",
              "    </tr>\n",
              "  </tbody>\n",
              "</table>\n",
              "</div>"
            ],
            "text/plain": [
              "       Age  Avg_Salary  ...                       Job_Role   Working_Experience\n",
              "3306  54.0       27500  ...          Maintenance & Support    More than 9 years\n",
              "2840  55.0      102500  ...  Product Owner/Product Manager    More than 9 years\n",
              "2093  56.0       47500  ...                Project Manager  Between 6 - 9 years\n",
              "2580  57.0       52500  ...                Project Manager    More than 9 years\n",
              "2015  56.0       82500  ...                            CTO    More than 9 years\n",
              "1768  56.0       27500  ...  Product Owner/Product Manager    More than 9 years\n",
              "3348  54.0       92500  ...          Technical Team Leader    More than 9 years\n",
              "1081  56.0       77500  ...                            CTO    More than 9 years\n",
              "3129  67.0       17500  ...           Full-Stack Developer  Between 1 - 3 years\n",
              "2444  56.0       27500  ...                Project Manager    More than 9 years\n",
              "\n",
              "[10 rows x 6 columns]"
            ]
          },
          "metadata": {
            "tags": []
          },
          "execution_count": 230
        }
      ]
    },
    {
      "cell_type": "markdown",
      "metadata": {
        "id": "gDJ4uxcfuPoG"
      },
      "source": [
        "Below we can see that in this subset there are 35 professionals with age over 54 years."
      ]
    },
    {
      "cell_type": "code",
      "metadata": {
        "id": "oxa56DMNroOE",
        "colab": {
          "base_uri": "https://localhost:8080/"
        },
        "outputId": "06bd6ee9-f965-4d67-813b-697149f01f1d"
      },
      "source": [
        "raw_b.shape"
      ],
      "execution_count": null,
      "outputs": [
        {
          "output_type": "execute_result",
          "data": {
            "text/plain": [
              "(35, 6)"
            ]
          },
          "metadata": {
            "tags": []
          },
          "execution_count": 231
        }
      ]
    },
    {
      "cell_type": "code",
      "metadata": {
        "colab": {
          "base_uri": "https://localhost:8080/"
        },
        "id": "ElbC2fTAgvuh",
        "outputId": "9b498dc0-acc6-444c-aa31-a2577149e241"
      },
      "source": [
        "raw_b.info()"
      ],
      "execution_count": null,
      "outputs": [
        {
          "output_type": "stream",
          "text": [
            "<class 'pandas.core.frame.DataFrame'>\n",
            "Int64Index: 35 entries, 499 to 3362\n",
            "Data columns (total 6 columns):\n",
            " #   Column              Non-Null Count  Dtype  \n",
            "---  ------              --------------  -----  \n",
            " 0   Age                 35 non-null     float64\n",
            " 1   Avg_Salary          35 non-null     int64  \n",
            " 2   Gender              35 non-null     object \n",
            " 3   Cutting_Age         35 non-null     float64\n",
            " 4   Job_Role            35 non-null     object \n",
            " 5   Working_Experience  35 non-null     object \n",
            "dtypes: float64(2), int64(1), object(3)\n",
            "memory usage: 1.9+ KB\n"
          ],
          "name": "stdout"
        }
      ]
    },
    {
      "cell_type": "code",
      "metadata": {
        "colab": {
          "base_uri": "https://localhost:8080/",
          "height": 138
        },
        "id": "nq7nnaFsg6Af",
        "outputId": "4e694046-41d9-4cd7-824b-4b81eaa17738"
      },
      "source": [
        "round(raw_b.describe().T, 0)"
      ],
      "execution_count": null,
      "outputs": [
        {
          "output_type": "execute_result",
          "data": {
            "text/html": [
              "<div>\n",
              "<style scoped>\n",
              "    .dataframe tbody tr th:only-of-type {\n",
              "        vertical-align: middle;\n",
              "    }\n",
              "\n",
              "    .dataframe tbody tr th {\n",
              "        vertical-align: top;\n",
              "    }\n",
              "\n",
              "    .dataframe thead th {\n",
              "        text-align: right;\n",
              "    }\n",
              "</style>\n",
              "<table border=\"1\" class=\"dataframe\">\n",
              "  <thead>\n",
              "    <tr style=\"text-align: right;\">\n",
              "      <th></th>\n",
              "      <th>count</th>\n",
              "      <th>mean</th>\n",
              "      <th>std</th>\n",
              "      <th>min</th>\n",
              "      <th>25%</th>\n",
              "      <th>50%</th>\n",
              "      <th>75%</th>\n",
              "      <th>max</th>\n",
              "    </tr>\n",
              "  </thead>\n",
              "  <tbody>\n",
              "    <tr>\n",
              "      <th>Age</th>\n",
              "      <td>35.0</td>\n",
              "      <td>57.0</td>\n",
              "      <td>3.0</td>\n",
              "      <td>54.0</td>\n",
              "      <td>55.0</td>\n",
              "      <td>56.0</td>\n",
              "      <td>58.0</td>\n",
              "      <td>67.0</td>\n",
              "    </tr>\n",
              "    <tr>\n",
              "      <th>Avg_Salary</th>\n",
              "      <td>35.0</td>\n",
              "      <td>51406.0</td>\n",
              "      <td>31644.0</td>\n",
              "      <td>0.0</td>\n",
              "      <td>27500.0</td>\n",
              "      <td>40000.0</td>\n",
              "      <td>80000.0</td>\n",
              "      <td>120000.0</td>\n",
              "    </tr>\n",
              "    <tr>\n",
              "      <th>Cutting_Age</th>\n",
              "      <td>35.0</td>\n",
              "      <td>54.0</td>\n",
              "      <td>0.0</td>\n",
              "      <td>54.0</td>\n",
              "      <td>54.0</td>\n",
              "      <td>54.0</td>\n",
              "      <td>54.0</td>\n",
              "      <td>54.0</td>\n",
              "    </tr>\n",
              "  </tbody>\n",
              "</table>\n",
              "</div>"
            ],
            "text/plain": [
              "             count     mean      std   min      25%      50%      75%       max\n",
              "Age           35.0     57.0      3.0  54.0     55.0     56.0     58.0      67.0\n",
              "Avg_Salary    35.0  51406.0  31644.0   0.0  27500.0  40000.0  80000.0  120000.0\n",
              "Cutting_Age   35.0     54.0      0.0  54.0     54.0     54.0     54.0      54.0"
            ]
          },
          "metadata": {
            "tags": []
          },
          "execution_count": 233
        }
      ]
    },
    {
      "cell_type": "markdown",
      "metadata": {
        "id": "p3aOuoFzgpZz"
      },
      "source": [
        "Let's take a look at visualization at the subset raw_b"
      ]
    },
    {
      "cell_type": "code",
      "metadata": {
        "colab": {
          "base_uri": "https://localhost:8080/",
          "height": 499
        },
        "id": "lhNbTvNr2CB-",
        "outputId": "b30c8465-b709-4c19-edaa-d30c120cd778"
      },
      "source": [
        "#Plotting a Histogram with ages of Raw_3LA dataset\n",
        "fig, ax = plt.subplots()\n",
        "\n",
        "raw_b['Age'].hist(bins = 20, figsize = (12,8))\n",
        "ax.set_title(\"Age's Histogram Raw_b\")\n",
        "plt.show()"
      ],
      "execution_count": null,
      "outputs": [
        {
          "output_type": "display_data",
          "data": {
            "image/png": "[encoded data removed]",
            "text/plain": [
              "<Figure size 864x576 with 1 Axes>"
            ]
          },
          "metadata": {
            "tags": [],
            "needs_background": "light"
          }
        }
      ]
    },
    {
      "cell_type": "code",
      "metadata": {
        "colab": {
          "base_uri": "https://localhost:8080/",
          "height": 369
        },
        "id": "TG_71RbZ2ZbS",
        "outputId": "a60c08fd-2176-474d-df78-aa8bb1161633"
      },
      "source": [
        "sns.displot(raw_b, x = 'Age', kde = True)\n",
        "plt.show()"
      ],
      "execution_count": null,
      "outputs": [
        {
          "output_type": "display_data",
          "data": {
            "image/png": "[encoded data removed]",
            "text/plain": [
              "<Figure size 360x360 with 1 Axes>"
            ]
          },
          "metadata": {
            "tags": [],
            "needs_background": "light"
          }
        }
      ]
    },
    {
      "cell_type": "code",
      "metadata": {
        "colab": {
          "base_uri": "https://localhost:8080/",
          "height": 462
        },
        "id": "K8RIPz6i2lnF",
        "outputId": "b6aa4a53-983a-454b-d56b-eb78afefad4b"
      },
      "source": [
        "##Plotting a visual analysis of ages and salaries\n",
        "plt.figure(figsize = (24, 10))\n",
        "\n",
        "sns.boxplot(x='Age', y = 'Avg_Salary', data= raw_b)\n",
        "\n",
        "plt.title(\"Analysis of Ages and Salaries Raw_b\");\n",
        "\n",
        "plt.show()"
      ],
      "execution_count": null,
      "outputs": [
        {
          "output_type": "display_data",
          "data": {
            "image/png": "[encoded data removed]",
            "text/plain": [
              "<Figure size 1728x720 with 1 Axes>"
            ]
          },
          "metadata": {
            "tags": [],
            "needs_background": "light"
          }
        }
      ]
    },
    {
      "cell_type": "code",
      "metadata": {
        "colab": {
          "base_uri": "https://localhost:8080/"
        },
        "id": "-JoKJTSHmC1N",
        "outputId": "eef63d97-8c7c-47da-aae2-d2d238030665"
      },
      "source": [
        "#Let's check the mean age by gender\n",
        "round(raw_b.groupby(by='Gender')['Age'].mean(),0)"
      ],
      "execution_count": null,
      "outputs": [
        {
          "output_type": "execute_result",
          "data": {
            "text/plain": [
              "Gender\n",
              "Female    56.0\n",
              "Male      57.0\n",
              "Name: Age, dtype: float64"
            ]
          },
          "metadata": {
            "tags": []
          },
          "execution_count": 237
        }
      ]
    },
    {
      "cell_type": "code",
      "metadata": {
        "colab": {
          "base_uri": "https://localhost:8080/"
        },
        "id": "9-dbSOsWh314",
        "outputId": "fe6f7b1b-fb53-4394-9eca-4eb8cb0b4822"
      },
      "source": [
        "#Let's see a split of Gender\n",
        "raw_b.groupby(by='Gender').size()"
      ],
      "execution_count": null,
      "outputs": [
        {
          "output_type": "execute_result",
          "data": {
            "text/plain": [
              "Gender\n",
              "Female     4\n",
              "Male      31\n",
              "dtype: int64"
            ]
          },
          "metadata": {
            "tags": []
          },
          "execution_count": 238
        }
      ]
    },
    {
      "cell_type": "code",
      "metadata": {
        "colab": {
          "base_uri": "https://localhost:8080/",
          "height": 390
        },
        "id": "e_jdGhtnTVlM",
        "outputId": "3ba822b1-0eef-4b9d-fd9a-a8794516306d"
      },
      "source": [
        "#looking for outliers\n",
        "fig, ax = plt.subplots()\n",
        "raw_b['Age'].plot.box(grid = True, figsize = (12, 6))\n",
        "ax.set_title(\"Age's Oultliers in the Subset raw_b\")\n",
        "plt.show()"
      ],
      "execution_count": null,
      "outputs": [
        {
          "output_type": "display_data",
          "data": {
            "image/png": "[encoded data removed]",
            "text/plain": [
              "<Figure size 864x432 with 1 Axes>"
            ]
          },
          "metadata": {
            "tags": [],
            "needs_background": "light"
          }
        }
      ]
    },
    {
      "cell_type": "markdown",
      "metadata": {
        "id": "nZ2S5b3zVQel"
      },
      "source": [
        "As mentioned above, we know that a Machine Learning model could have bias and when identifying possible outliers within a dataset could not consider these outliers.\n",
        "\n",
        "So, there is a risk for the candidate (tech professional) during the hiring process to be eliminated because it is age is higher than the average age plus 20 years.\n",
        "\n",
        "\n",
        "\n",
        "**THE QUESTION TO BE ANSWERED:**\n",
        "\n",
        "How those 35 professionals tech could facing the potential ageism??"
      ]
    }
  ]
}